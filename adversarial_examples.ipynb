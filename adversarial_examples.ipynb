{
 "cells": [
  {
   "cell_type": "code",
   "execution_count": 1,
   "metadata": {},
   "outputs": [],
   "source": [
    "import matplotlib.pyplot as plt\n",
    "import numpy as np\n",
    "import os\n",
    "import torch\n",
    "import torch.nn as nn\n",
    "import torchvision as tv\n",
    "import tqdm\n",
    "from collections import namedtuple\n",
    "from scipy.optimize import Bounds, minimize\n",
    "from torch.utils.data import Dataset"
   ]
  },
  {
   "cell_type": "code",
   "execution_count": 2,
   "metadata": {},
   "outputs": [],
   "source": [
    "Config = namedtuple(\n",
    "    \"Config\",\n",
    "    (\n",
    "        \"batch_size\",\n",
    "        \"epochs\",\n",
    "        \"lr\",\n",
    "        \"lr_gamma\",\n",
    "        \"input_size\",\n",
    "        \"output_size\",\n",
    "        \"w_decay\",\n",
    "        \"r_weight\",\n",
    "        \"device\",\n",
    "        \"load_model01\",\n",
    "        \"model01_path\",\n",
    "        \"load_model02\",\n",
    "        \"model02_path\",\n",
    "    )\n",
    ")\n",
    "\n",
    "device = torch.device(\"cuda\" if torch.cuda.is_available() else \"cpu\")\n",
    "config = Config(\n",
    "    batch_size=64,\n",
    "    epochs=25,\n",
    "    lr=1e-4,\n",
    "    lr_gamma=0.88,\n",
    "    input_size=28*28,\n",
    "    output_size=10,\n",
    "    w_decay=1e-4,\n",
    "    r_weight=0.15,\n",
    "    device=device,\n",
    "    load_model01=True,\n",
    "    model01_path=\"./data/model_1.pt\",\n",
    "    load_model02=True,\n",
    "    model02_path=\"./data/model_2.pt\",\n",
    ")"
   ]
  },
  {
   "cell_type": "code",
   "execution_count": 3,
   "metadata": {},
   "outputs": [],
   "source": [
    "os.makedirs(\"./data\", exist_ok=True)\n",
    "# MNIST Datasets\n",
    "train_ds = tv.datasets.MNIST(\n",
    "    \"./data\",\n",
    "    transform=tv.transforms.ToTensor(),\n",
    "    train=True,\n",
    "    download=True\n",
    ")\n",
    "test_ds = tv.datasets.MNIST(\n",
    "    \"./data\",\n",
    "    transform=tv.transforms.ToTensor(),\n",
    "    train=False,\n",
    ")\n",
    "# MNIST Data Loaders\n",
    "train_dl = torch.utils.data.DataLoader(\n",
    "    train_ds,\n",
    "    batch_size=config.batch_size,\n",
    "    drop_last=True,\n",
    "    shuffle=True,\n",
    "    num_workers=4,\n",
    ")\n",
    "test_dl = torch.utils.data.DataLoader(\n",
    "    test_ds,\n",
    "    batch_size=config.batch_size,\n",
    "    shuffle=True\n",
    ")"
   ]
  },
  {
   "cell_type": "code",
   "execution_count": 4,
   "metadata": {},
   "outputs": [],
   "source": [
    "def logits_to_label(logits):\n",
    "    return torch.softmax(logits, 1).argmax(1)\n",
    "\n",
    "\n",
    "class FCNet100(nn.Module):\n",
    "    def __init__(self, config):\n",
    "        super(FCNet100, self).__init__()\n",
    "        self.config = config\n",
    "        self.model = nn.Sequential(\n",
    "            nn.Linear(config.input_size, 100),\n",
    "            nn.LeakyReLU(0.1, inplace=True),\n",
    "            \n",
    "            nn.Linear(100, 100),\n",
    "            nn.LeakyReLU(0.1, inplace=True),\n",
    "            \n",
    "            nn.Linear(100, config.output_size),\n",
    "        )\n",
    "    \n",
    "    def forward(self, x):\n",
    "        if isinstance(x, np.ndarray):\n",
    "            x = torch.tensor(x).to(self.config.device)\n",
    "        x = x.view(x.size(0), self.config.input_size)\n",
    "        # Logits\n",
    "        return self.model(x)"
   ]
  },
  {
   "cell_type": "code",
   "execution_count": 5,
   "metadata": {},
   "outputs": [],
   "source": [
    "def train(model, opt, loss_func, loader, config, epoch):\n",
    "    it = tqdm.tqdm(loader, ncols=80, desc=f\"train: {epoch + 1}/{config.epochs}\")\n",
    "    for imgs, targets in it:\n",
    "        model.train()\n",
    "        opt.zero_grad()\n",
    "        imgs = imgs.to(config.device).double()\n",
    "        targets = targets.to(config.device)\n",
    "        out = model(imgs)\n",
    "        loss = loss_func(out, targets)\n",
    "        loss.backward()\n",
    "        opt.step()\n",
    "        \n",
    "        \n",
    "def test(model, loader, config):\n",
    "    correct = 0\n",
    "    for imgs, targets in tqdm.tqdm(loader, ncols=80, desc=\"Test\"):\n",
    "        model.eval()\n",
    "        imgs = imgs.to(config.device).double()\n",
    "        targets = targets.to(config.device)\n",
    "        with torch.no_grad():\n",
    "            out = model(imgs)\n",
    "            pred = logits_to_label(out)\n",
    "            correct += (pred == targets).sum()\n",
    "    N = len(loader.dataset)\n",
    "    acc = float(correct) / N\n",
    "    print(f\"Test acc: {acc:.02%}\")\n",
    "\n",
    "    \n",
    "def fetch_trained_model(model_class, train_loader, test_loader, load_from_file, path, config):\n",
    "    \"\"\"Either fetch a stored model from disc or train one from scratch\"\"\"\n",
    "    model = model_class(config).double().to(config.device)\n",
    "    if os.path.isfile(path) and load_from_file:\n",
    "        model.load_state_dict(torch.load(path))\n",
    "        test(model, test_loader, config)\n",
    "    else:\n",
    "        opt = torch.optim.Adam(model.parameters(), config.lr, weight_decay=config.w_decay)\n",
    "        # Learning rate adjuster\n",
    "        sched = torch.optim.lr_scheduler.StepLR(opt, 1, config.lr_gamma)\n",
    "        criterion = nn.CrossEntropyLoss()\n",
    "\n",
    "        for ep in range(config.epochs):\n",
    "            train(model, opt, criterion, train_loader, config, ep)\n",
    "            test(model, test_loader, config)\n",
    "            sched.step()\n",
    "        torch.save(model.state_dict(), path)\n",
    "    model.eval()\n",
    "    print(model)\n",
    "    return model"
   ]
  },
  {
   "cell_type": "code",
   "execution_count": 6,
   "metadata": {
    "scrolled": true
   },
   "outputs": [
    {
     "name": "stderr",
     "output_type": "stream",
     "text": [
      "Test: 100%|██████████████████████████████████| 157/157 [00:00<00:00, 166.16it/s]"
     ]
    },
    {
     "name": "stdout",
     "output_type": "stream",
     "text": [
      "Test acc: 94.44%\n",
      "FCNet100(\n",
      "  (model): Sequential(\n",
      "    (0): Linear(in_features=784, out_features=100, bias=True)\n",
      "    (1): LeakyReLU(negative_slope=0.1, inplace=True)\n",
      "    (2): Linear(in_features=100, out_features=100, bias=True)\n",
      "    (3): LeakyReLU(negative_slope=0.1, inplace=True)\n",
      "    (4): Linear(in_features=100, out_features=10, bias=True)\n",
      "  )\n",
      ")\n"
     ]
    },
    {
     "name": "stderr",
     "output_type": "stream",
     "text": [
      "\n"
     ]
    }
   ],
   "source": [
    "model = fetch_trained_model(\n",
    "    FCNet100, train_dl,\n",
    "    test_dl,\n",
    "    config.load_model01,\n",
    "    config.model01_path,\n",
    "    config\n",
    ")"
   ]
  },
  {
   "cell_type": "code",
   "execution_count": 7,
   "metadata": {},
   "outputs": [],
   "source": [
    "def adv_penalty_func(xr, *args):\n",
    "    \"\"\"This is simply the equation from Section 4.1\"\"\"\n",
    "    x, net, c, target, device = args\n",
    "    # |r| penalty portion\n",
    "    size_penalty = c * np.abs(x - xr).sum()\n",
    "    # x + r as a tensor\n",
    "    xrt = torch.tensor(xr.reshape(1, 28, 28)).to(device)\n",
    "    # loss_f(x + r, l) penalty\n",
    "    logits = net(xrt)\n",
    "    class_penalty = nn.functional.cross_entropy(logits, target).item()\n",
    "    return size_penalty + class_penalty\n",
    "\n",
    "\n",
    "def find_adversarial_example(net, x, target, config):\n",
    "    \"\"\"This is the optimization problem described in Section 4.1\"\"\"\n",
    "    # The c weight for the L1 norm of r\n",
    "    c = config.r_weight\n",
    "    # Box constraint: [0, 1]^m\n",
    "    box_constraint = Bounds(np.zeros_like(x.ravel()), np.ones_like(x.ravel()))\n",
    "    # Target label\n",
    "    target = torch.tensor([target]).to(config.device, dtype=torch.int64)\n",
    "    # Args in addition to the (x + r) array that are used by the penalty function\n",
    "    args = (x.flatten(), net, c, target, device)\n",
    "    # Use x as initial guess for (x + r)\n",
    "    xr0 = x.copy()\n",
    "    with torch.no_grad():\n",
    "        res = minimize(\n",
    "            adv_penalty_func,\n",
    "            # Flatten it since minimize only works on a 1D array\n",
    "            xr0.flatten(),\n",
    "            args,\n",
    "            method='L-BFGS-B',\n",
    "            jac=None,\n",
    "            bounds=box_constraint,\n",
    "            tol=None,\n",
    "            callback=None,\n",
    "            options={\n",
    "                'disp': None,\n",
    "                'maxcor': 10,\n",
    "                'ftol': 2.220446049250313e-09,\n",
    "                'gtol': 1e-05,\n",
    "                'eps': 1e-09,\n",
    "                'maxfun': 45000,\n",
    "                'maxiter': 45000,\n",
    "                'iprint': -1,\n",
    "                'maxls': 30\n",
    "            }\n",
    "        )\n",
    "    # Reshape back into an image\n",
    "    xr = torch.tensor(res.x.reshape(x.shape))\n",
    "    return xr"
   ]
  },
  {
   "cell_type": "code",
   "execution_count": 8,
   "metadata": {},
   "outputs": [
    {
     "name": "stdout",
     "output_type": "stream",
     "text": [
      "[[7 2 1 0]\n",
      " [4 1 4 9]\n",
      " [9 0 6 9]\n",
      " [0 1 5 9]]\n"
     ]
    },
    {
     "data": {
      "image/png": "[encoded data removed]",
      "text/plain": [
       "<Figure size 576x576 with 1 Axes>"
      ]
     },
     "metadata": {
      "needs_background": "light"
     },
     "output_type": "display_data"
    }
   ],
   "source": [
    "# Select N images that the model correctly classifies already\n",
    "N = 16\n",
    "adv_target = 3\n",
    "x_imgs = []\n",
    "x_labels = []\n",
    "for x, label in test_ds:\n",
    "    if label == adv_target:\n",
    "        continue\n",
    "    x = x.to(config.device).double()\n",
    "    if (logits_to_label(model(x)) == label).item():\n",
    "        # Make sure that the model correctly classifies this x\n",
    "        x_imgs.append(x.cpu())\n",
    "        x_labels.append(label)\n",
    "    if len(x_imgs) >= N:\n",
    "        break\n",
    "x_labels = np.array(x_labels).reshape(4, 4)\n",
    "grid = tv.utils.make_grid(x_imgs, nrow=4, pad_value=1)\n",
    "plt.figure(figsize=(8, 8))\n",
    "plt.title(\"Originals\")\n",
    "plt.imshow(np.transpose(grid, (1, 2, 0)))\n",
    "print(x_labels)"
   ]
  },
  {
   "cell_type": "code",
   "execution_count": 9,
   "metadata": {},
   "outputs": [
    {
     "name": "stderr",
     "output_type": "stream",
     "text": [
      "100%|███████████████████████████████████████████| 16/16 [03:06<00:00, 11.66s/it]\n"
     ]
    }
   ],
   "source": [
    "xr_imgs = []\n",
    "xr_labels = []\n",
    "for x in tqdm.tqdm(x_imgs, ncols=80):\n",
    "    xr = find_adversarial_example(model, x.numpy(), adv_target, config)\n",
    "    xr_imgs.append(xr)\n",
    "    new_label = logits_to_label(model(xr.to(config.device))).item()\n",
    "    xr_labels.append(new_label)\n",
    "xr_labels = np.array(xr_labels).reshape(4, 4)"
   ]
  },
  {
   "cell_type": "code",
   "execution_count": 10,
   "metadata": {},
   "outputs": [
    {
     "name": "stderr",
     "output_type": "stream",
     "text": [
      "Clipping input data to the valid range for imshow with RGB data ([0..1] for floats or [0..255] for integers).\n"
     ]
    },
    {
     "name": "stdout",
     "output_type": "stream",
     "text": [
      "New Labels:\n",
      "[[3 3 3 3]\n",
      " [3 3 3 3]\n",
      " [3 3 3 3]\n",
      " [3 3 3 3]]\n"
     ]
    },
    {
     "data": {
      "text/plain": [
       "<matplotlib.image.AxesImage at 0x7fd28c60ad90>"
      ]
     },
     "execution_count": 10,
     "metadata": {},
     "output_type": "execute_result"
    },
    {
     "data": {
      "image/png": "[encoded data removed]",
      "text/plain": [
       "<Figure size 576x576 with 1 Axes>"
      ]
     },
     "metadata": {
      "needs_background": "light"
     },
     "output_type": "display_data"
    },
    {
     "data": {
      "image/png": "[encoded data removed]",
      "text/plain": [
       "<Figure size 576x576 with 1 Axes>"
      ]
     },
     "metadata": {
      "needs_background": "light"
     },
     "output_type": "display_data"
    }
   ],
   "source": [
    "grid = tv.utils.make_grid(xr_imgs, nrow=4, pad_value=1)\n",
    "plt.figure(figsize=(8, 8))\n",
    "plt.title(\"Adversarial Examples\")\n",
    "plt.imshow(np.transpose(grid, (1, 2, 0)))\n",
    "print(f\"New Labels:\\n{xr_labels}\")\n",
    "\n",
    "r_imgs = [xr - x for xr, x in zip(xr_imgs, x_imgs)]\n",
    "grid = tv.utils.make_grid(r_imgs, nrow=4, pad_value=1)\n",
    "plt.figure(figsize=(8, 8))\n",
    "plt.title(\"Adversarial Perturbations\")\n",
    "plt.imshow(np.transpose(grid, (1, 2, 0)))"
   ]
  },
  {
   "cell_type": "code",
   "execution_count": 11,
   "metadata": {},
   "outputs": [],
   "source": [
    "class FCNet200(nn.Module):\n",
    "    def __init__(self, config):\n",
    "        super(FCNet200, self).__init__()\n",
    "        self.config = config\n",
    "        self.model = nn.Sequential(\n",
    "            nn.Linear(config.input_size, 200),\n",
    "            nn.LeakyReLU(0.1, inplace=True),\n",
    "            \n",
    "            nn.Linear(200, 200),\n",
    "            nn.LeakyReLU(0.1, inplace=True),\n",
    "            \n",
    "            nn.Linear(200, config.output_size),\n",
    "        )\n",
    "    \n",
    "    def forward(self, x):\n",
    "        if isinstance(x, np.ndarray):\n",
    "            x = torch.tensor(x).to(self.config.device)\n",
    "        x = x.view(x.size(0), self.config.input_size)\n",
    "        # Logits\n",
    "        return self.model(x)"
   ]
  },
  {
   "cell_type": "code",
   "execution_count": 12,
   "metadata": {
    "scrolled": true
   },
   "outputs": [
    {
     "name": "stderr",
     "output_type": "stream",
     "text": [
      "Test: 100%|██████████████████████████████████| 157/157 [00:00<00:00, 193.16it/s]"
     ]
    },
    {
     "name": "stdout",
     "output_type": "stream",
     "text": [
      "Test acc: 95.89%\n",
      "FCNet200(\n",
      "  (model): Sequential(\n",
      "    (0): Linear(in_features=784, out_features=200, bias=True)\n",
      "    (1): LeakyReLU(negative_slope=0.1, inplace=True)\n",
      "    (2): Linear(in_features=200, out_features=200, bias=True)\n",
      "    (3): LeakyReLU(negative_slope=0.1, inplace=True)\n",
      "    (4): Linear(in_features=200, out_features=10, bias=True)\n",
      "  )\n",
      ")\n"
     ]
    },
    {
     "name": "stderr",
     "output_type": "stream",
     "text": [
      "\n"
     ]
    }
   ],
   "source": [
    "model2 = FCNet200(config).double().to(config.device)\n",
    "model2 = fetch_trained_model(\n",
    "    FCNet200, train_dl,\n",
    "    test_dl,\n",
    "    config.load_model02,\n",
    "    config.model02_path,\n",
    "    config\n",
    ")"
   ]
  },
  {
   "cell_type": "code",
   "execution_count": 13,
   "metadata": {},
   "outputs": [
    {
     "name": "stdout",
     "output_type": "stream",
     "text": [
      "Cross Model Adverserial Labels:\n",
      "[[3 3 3 3]\n",
      " [3 3 3 3]\n",
      " [3 3 3 3]\n",
      " [3 3 3 3]]\n"
     ]
    }
   ],
   "source": [
    "cross_model_labels = []\n",
    "for xr in xr_imgs:\n",
    "    label = logits_to_label(model2(xr.to(config.device))).item()\n",
    "    cross_model_labels.append(label)\n",
    "cross_model_labels = np.array(cross_model_labels).reshape(4, 4)\n",
    "print(f\"Cross Model Adverserial Labels:\\n{cross_model_labels}\")"
   ]
  },
  {
   "cell_type": "code",
   "execution_count": null,
   "metadata": {},
   "outputs": [],
   "source": []
  }
 ],
 "metadata": {
  "kernelspec": {
   "display_name": "Python 3",
   "language": "python",
   "name": "python3"
  },
  "language_info": {
   "codemirror_mode": {
    "name": "ipython",
    "version": 3
   },
   "file_extension": ".py",
   "mimetype": "text/x-python",
   "name": "python",
   "nbconvert_exporter": "python",
   "pygments_lexer": "ipython3",
   "version": "3.7.6"
  }
 },
 "nbformat": 4,
 "nbformat_minor": 4
}
